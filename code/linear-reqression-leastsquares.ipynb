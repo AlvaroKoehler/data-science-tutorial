{
 "cells": [
  {
   "cell_type": "code",
   "execution_count": 1,
   "metadata": {
    "collapsed": true
   },
   "outputs": [],
   "source": [
    "import numpy as np\n",
    "import matplotlib.pyplot as plt\n",
    "%matplotlib inline"
   ]
  },
  {
   "cell_type": "markdown",
   "metadata": {},
   "source": [
    "# Least-Squares Linear Regression"
   ]
  },
  {
   "cell_type": "markdown",
   "metadata": {},
   "source": [
    "- fit slope and intercept so that the linear regression fit (here: \"line\") minimizes the sum of the residuals (vertical offsets or distances)\n",
    "\n",
    "<img src=\"images/linear_regression_scheme.png\" width=\"450\" />"
   ]
  },
  {
   "cell_type": "code",
   "execution_count": 2,
   "metadata": {},
   "outputs": [
    {
     "data": {
      "image/png": "[encoded data removed]",
      "text/plain": [
       "<matplotlib.figure.Figure at 0x10c44dfd0>"
      ]
     },
     "metadata": {},
     "output_type": "display_data"
    }
   ],
   "source": [
    "rng = np.random.RandomState(123)\n",
    "mean = [100, 1000]\n",
    "cov = [[1, 0.9], [0.9, 1]]\n",
    "sample = rng.multivariate_normal(mean, cov, size=100)\n",
    "x, y = sample[:, 0], sample[:, 1]\n",
    "\n",
    "plt.scatter(x, y)\n",
    "plt.xlabel('x')\n",
    "plt.ylabel('y')\n",
    "plt.show()"
   ]
  },
  {
   "cell_type": "markdown",
   "metadata": {},
   "source": [
    "### 1. Least-squares linear regression via \"classic statistic\""
   ]
  },
  {
   "cell_type": "markdown",
   "metadata": {},
   "source": [
    "- using \"classic statistics\":\n",
    "\n",
    "$$w_1 = \\frac{\\sigma_{x,y}}{\\sigma_{x}^{2}}\\quad$$\n",
    "\n",
    "$$b = \\bar{y} - w_1\\bar{x}\\quad$$\n",
    "\n",
    "where \n",
    "\n",
    "\n",
    "$$\\text{covariance: } \\sigma_{xy} = \\frac{1}{n} \\sum_{i=1}^{n} (x_i - \\bar{x})(y_i - \\bar{y})$$\n",
    "\n",
    "$$\\text{variance: } \\sigma^{2}_{x} = \\frac{1}{n} \\sum_{i=1}^{n} (x_i - \\bar{x})^2\\quad$$"
   ]
  },
  {
   "cell_type": "code",
   "execution_count": 5,
   "metadata": {},
   "outputs": [
    {
     "name": "stdout",
     "output_type": "stream",
     "text": [
      "slope: 0.84\n",
      "y-intercept: 915.59\n"
     ]
    }
   ],
   "source": [
    "cov_xy = np.cov(np.vstack((x, y)), ddof=0)[0, 1]\n",
    "var_x = np.var(x, ddof=0)\n",
    "w1 = cov_xy / var_x\n",
    "b = np.mean(y) - w1*np.mean(x)\n",
    "\n",
    "print('slope: %.2f' % w1)\n",
    "print('y-intercept: %.2f' % b)"
   ]
  },
  {
   "cell_type": "markdown",
   "metadata": {},
   "source": [
    "### 2. Least-squares linear regression via linear algebra"
   ]
  },
  {
   "cell_type": "markdown",
   "metadata": {},
   "source": [
    "- closed-form (analytical) solution:\n",
    "\n",
    "$$w = (X^T X)^{-1} X^T y$$"
   ]
  },
  {
   "cell_type": "code",
   "execution_count": null,
   "metadata": {},
   "outputs": [],
   "source": [
    "X = x[:, np.newaxis]\n",
    "\n",
    "# adding a column vector of \"ones\"\n",
    "Xb = np.hstack((np.ones((X.shape[0], 1)), X))\n",
    "w = np.zeros(X.shape[1])\n",
    "\n",
    "z = np.linalg.inv(np.dot(Xb.T, Xb))\n",
    "w = np.dot(z, np.dot(Xb.T, y))\n",
    "b, w1 = w[0], w[1]\n",
    "print('slope: %.2f' % w1)\n",
    "print('y-intercept: %.2f' % b)"
   ]
  },
  {
   "cell_type": "markdown",
   "metadata": {},
   "source": [
    "### 3. Using a pre-implemented function"
   ]
  },
  {
   "cell_type": "code",
   "execution_count": null,
   "metadata": {},
   "outputs": [],
   "source": [
    "w = np.polyfit(x, y, deg=1)\n",
    "b, w1 = w[1], w[0]\n",
    "print('slope: %.2f' % w1)\n",
    "print('y-intercept: %.2f' % b)"
   ]
  },
  {
   "cell_type": "markdown",
   "metadata": {},
   "source": [
    "- note that there are many alternative tools (scikit-learn, statsmodels, ...)"
   ]
  },
  {
   "cell_type": "markdown",
   "metadata": {},
   "source": [
    "### Show line fit"
   ]
  },
  {
   "cell_type": "code",
   "execution_count": 7,
   "metadata": {},
   "outputs": [
    {
     "data": {
      "image/png": "[encoded data removed]",
      "text/plain": [
       "<matplotlib.figure.Figure at 0x10ddec518>"
      ]
     },
     "metadata": {},
     "output_type": "display_data"
    }
   ],
   "source": [
    "extremes = np.array([np.min(x), np.max(x)])\n",
    "predict = extremes*w1 + b\n",
    "\n",
    "plt.plot(x, y, marker='o', linestyle='')\n",
    "plt.plot(extremes, predict)\n",
    "plt.xlabel('x')\n",
    "plt.ylabel('y')\n",
    "plt.show()"
   ]
  }
 ],
 "metadata": {
  "kernelspec": {
   "display_name": "Python 3",
   "language": "python",
   "name": "python3"
  },
  "language_info": {
   "codemirror_mode": {
    "name": "ipython",
    "version": 3
   },
   "file_extension": ".py",
   "mimetype": "text/x-python",
   "name": "python",
   "nbconvert_exporter": "python",
   "pygments_lexer": "ipython3",
   "version": "3.6.1"
  }
 },
 "nbformat": 4,
 "nbformat_minor": 2
}
