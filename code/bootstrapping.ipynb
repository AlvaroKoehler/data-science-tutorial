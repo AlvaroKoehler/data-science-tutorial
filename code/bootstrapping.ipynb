{
 "cells": [
  {
   "cell_type": "code",
   "execution_count": 6,
   "metadata": {
    "collapsed": true
   },
   "outputs": [],
   "source": [
    "%matplotlib inline\n",
    "import pandas as pd\n",
    "import numpy as np\n",
    "import matplotlib.pyplot as plt"
   ]
  },
  {
   "cell_type": "markdown",
   "metadata": {},
   "source": [
    "# Bootstrapping"
   ]
  },
  {
   "cell_type": "markdown",
   "metadata": {},
   "source": [
    "- *random sampling with replacement*\n",
    "- resampling technique to simulate drawing new samples (where repeating experiments is not feasible or possible)\n",
    "- sampling with replacement\n",
    "- typically, the new sample has size *n*, where *n* is the size of the original dataset"
   ]
  },
  {
   "cell_type": "markdown",
   "metadata": {},
   "source": [
    "### Sample mean and estimating the population mean"
   ]
  },
  {
   "cell_type": "code",
   "execution_count": 43,
   "metadata": {},
   "outputs": [
    {
     "data": {
      "image/png": "[encoded data removed]",
      "text/plain": [
       "<matplotlib.figure.Figure at 0x10c1e49e8>"
      ]
     },
     "metadata": {},
     "output_type": "display_data"
    }
   ],
   "source": [
    "df = pd.read_csv('../datasets/iris/iris.csv')\n",
    "\n",
    "x = df['sepal_length'].values\n",
    "x_mean = np.mean(x)\n",
    "plt.hist(x, bins=10)\n",
    "plt.axvline(x_mean, color='orange', label='sample mean: %.2f' % x_mean)\n",
    "plt.legend(loc=1)\n",
    "plt.show()"
   ]
  },
  {
   "cell_type": "markdown",
   "metadata": {},
   "source": [
    "#### Standard Error (SE)"
   ]
  },
  {
   "cell_type": "markdown",
   "metadata": {},
   "source": [
    "$$SE_{\\bar{x}} = \\frac{s}{\\sqrt{n}}$$\n",
    "\n",
    "- the standard error *SE* (or *standard error of the mean*) estimates the standard deviation (*s*) of the sample mean ($\\bar{x}$)\n",
    "- i.e., the *SE* measures the variability when taking different samples from the population\n",
    "- in other words, the *SE* measures the variability between samples, whereas the sample standard deviation measures the variability within a sample\n",
    "- we use the standard error to judge how \"good\" our estimate of the population mean ($\\mu$) is"
   ]
  },
  {
   "cell_type": "code",
   "execution_count": 46,
   "metadata": {},
   "outputs": [
    {
     "name": "stdout",
     "output_type": "stream",
     "text": [
      "standard error 0.0676113162276\n"
     ]
    }
   ],
   "source": [
    "se = np.std(x, ddof=1) / np.sqrt(x.shape[0])\n",
    "print('standard error', se)"
   ]
  },
  {
   "cell_type": "markdown",
   "metadata": {},
   "source": [
    "#### Bootstrapping and estimating the population mean"
   ]
  },
  {
   "cell_type": "code",
   "execution_count": 37,
   "metadata": {},
   "outputs": [],
   "source": [
    "def bootstrap_means(x, n_bootstrap_samples, seed=None):\n",
    "\n",
    "    rng = np.random.RandomState(seed)\n",
    "    sample_means = np.zeros(shape=n_bootstrap_samples)\n",
    "    for i in range(n_bootstrap_samples):\n",
    "        sample = rng.choice(x, size=x.shape[0], replace=True)\n",
    "        sample_means[i] = np.mean(sample)\n",
    "    return sample_means"
   ]
  },
  {
   "cell_type": "code",
   "execution_count": 42,
   "metadata": {},
   "outputs": [
    {
     "data": {
      "image/png": "[encoded data removed]",
      "text/plain": [
       "<matplotlib.figure.Figure at 0x10c1b9dd8>"
      ]
     },
     "metadata": {},
     "output_type": "display_data"
    }
   ],
   "source": [
    "boot_50 = bootstrap_means(x, n_bootstrap_samples=50, seed=123)\n",
    "\n",
    "boot_mean = np.mean(boot_50)\n",
    "plt.hist(boot_50, bins=10)\n",
    "plt.axvline(boot_mean, color='orange', label='samples mean: %.2f' % boot_mean)\n",
    "plt.legend(loc=2)\n",
    "plt.show()"
   ]
  },
  {
   "cell_type": "code",
   "execution_count": 44,
   "metadata": {},
   "outputs": [
    {
     "data": {
      "image/png": "[encoded data removed]",
      "text/plain": [
       "<matplotlib.figure.Figure at 0x10b539400>"
      ]
     },
     "metadata": {},
     "output_type": "display_data"
    }
   ],
   "source": [
    "boot_2500 = bootstrap_means(x, n_bootstrap_samples=2500, seed=123)\n",
    "\n",
    "boot_mean = np.mean(boot_2500)\n",
    "plt.hist(boot_2500, bins=15)\n",
    "plt.axvline(boot_mean, color='orange', label='samples mean: %.2f' % boot_mean)\n",
    "plt.legend(loc=2)\n",
    "plt.show()"
   ]
  },
  {
   "cell_type": "code",
   "execution_count": 54,
   "metadata": {},
   "outputs": [
    {
     "data": {
      "text/plain": [
       "0.066664363123601356"
      ]
     },
     "execution_count": 54,
     "metadata": {},
     "output_type": "execute_result"
    }
   ],
   "source": [
    "np.std(boot_2500, ddof=1)"
   ]
  },
  {
   "cell_type": "code",
   "execution_count": 55,
   "metadata": {},
   "outputs": [
    {
     "data": {
      "text/plain": [
       "0.067611316227598597"
      ]
     },
     "execution_count": 55,
     "metadata": {},
     "output_type": "execute_result"
    }
   ],
   "source": [
    "se"
   ]
  }
 ],
 "metadata": {
  "kernelspec": {
   "display_name": "Python 3",
   "language": "python",
   "name": "python3"
  },
  "language_info": {
   "codemirror_mode": {
    "name": "ipython",
    "version": 3
   },
   "file_extension": ".py",
   "mimetype": "text/x-python",
   "name": "python",
   "nbconvert_exporter": "python",
   "pygments_lexer": "ipython3",
   "version": "3.6.1"
  }
 },
 "nbformat": 4,
 "nbformat_minor": 2
}
